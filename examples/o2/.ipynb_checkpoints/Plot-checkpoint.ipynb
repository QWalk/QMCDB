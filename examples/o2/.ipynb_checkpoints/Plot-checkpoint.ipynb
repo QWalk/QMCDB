{
 "cells": [
  {
   "cell_type": "code",
   "execution_count": 10,
   "metadata": {
    "collapsed": false
   },
   "outputs": [
    {
     "data": {
      "text/html": [
       "<div>\n",
       "<table border=\"1\" class=\"dataframe\">\n",
       "  <thead>\n",
       "    <tr style=\"text-align: right;\">\n",
       "      <th></th>\n",
       "      <th>Unnamed: 0</th>\n",
       "      <th>basis</th>\n",
       "      <th>energy</th>\n",
       "      <th>error</th>\n",
       "      <th>method</th>\n",
       "      <th>multiplicity</th>\n",
       "      <th>systematic_error</th>\n",
       "    </tr>\n",
       "  </thead>\n",
       "  <tbody>\n",
       "    <tr>\n",
       "      <th>0</th>\n",
       "      <td>0</td>\n",
       "      <td>CBS</td>\n",
       "      <td>-15.788495</td>\n",
       "      <td>0.001196</td>\n",
       "      <td>DMC(PBE25)</td>\n",
       "      <td>1</td>\n",
       "      <td>0.000519</td>\n",
       "    </tr>\n",
       "    <tr>\n",
       "      <th>1</th>\n",
       "      <td>1</td>\n",
       "      <td>CBS</td>\n",
       "      <td>-15.892449</td>\n",
       "      <td>0.001056</td>\n",
       "      <td>DMC(PBE25)</td>\n",
       "      <td>3</td>\n",
       "      <td>0.001381</td>\n",
       "    </tr>\n",
       "    <tr>\n",
       "      <th>2</th>\n",
       "      <td>2</td>\n",
       "      <td>TZP</td>\n",
       "      <td>-15.785437</td>\n",
       "      <td>0.000000</td>\n",
       "      <td>DFT(PBE25)</td>\n",
       "      <td>1</td>\n",
       "      <td>0.000000</td>\n",
       "    </tr>\n",
       "    <tr>\n",
       "      <th>3</th>\n",
       "      <td>3</td>\n",
       "      <td>TZP</td>\n",
       "      <td>-15.900415</td>\n",
       "      <td>0.000000</td>\n",
       "      <td>DFT(PBE25)</td>\n",
       "      <td>3</td>\n",
       "      <td>0.000000</td>\n",
       "    </tr>\n",
       "    <tr>\n",
       "      <th>4</th>\n",
       "      <td>4</td>\n",
       "      <td>TZP</td>\n",
       "      <td>-15.765379</td>\n",
       "      <td>0.000483</td>\n",
       "      <td>VMC(PBE25twobody)</td>\n",
       "      <td>1</td>\n",
       "      <td>0.000000</td>\n",
       "    </tr>\n",
       "    <tr>\n",
       "      <th>5</th>\n",
       "      <td>5</td>\n",
       "      <td>TZP</td>\n",
       "      <td>-15.770807</td>\n",
       "      <td>0.000496</td>\n",
       "      <td>VMC(PBE25threebody)</td>\n",
       "      <td>1</td>\n",
       "      <td>0.000000</td>\n",
       "    </tr>\n",
       "    <tr>\n",
       "      <th>6</th>\n",
       "      <td>6</td>\n",
       "      <td>TZP</td>\n",
       "      <td>-15.871181</td>\n",
       "      <td>0.000456</td>\n",
       "      <td>VMC(PBE25twobody)</td>\n",
       "      <td>3</td>\n",
       "      <td>0.000000</td>\n",
       "    </tr>\n",
       "    <tr>\n",
       "      <th>7</th>\n",
       "      <td>7</td>\n",
       "      <td>TZP</td>\n",
       "      <td>-15.877174</td>\n",
       "      <td>0.000428</td>\n",
       "      <td>VMC(PBE25threebody)</td>\n",
       "      <td>3</td>\n",
       "      <td>0.000000</td>\n",
       "    </tr>\n",
       "  </tbody>\n",
       "</table>\n",
       "</div>"
      ],
      "text/plain": [
       "   Unnamed: 0 basis     energy     error               method  multiplicity  \\\n",
       "0           0   CBS -15.788495  0.001196           DMC(PBE25)             1   \n",
       "1           1   CBS -15.892449  0.001056           DMC(PBE25)             3   \n",
       "2           2   TZP -15.785437  0.000000           DFT(PBE25)             1   \n",
       "3           3   TZP -15.900415  0.000000           DFT(PBE25)             3   \n",
       "4           4   TZP -15.765379  0.000483    VMC(PBE25twobody)             1   \n",
       "5           5   TZP -15.770807  0.000496  VMC(PBE25threebody)             1   \n",
       "6           6   TZP -15.871181  0.000456    VMC(PBE25twobody)             3   \n",
       "7           7   TZP -15.877174  0.000428  VMC(PBE25threebody)             3   \n",
       "\n",
       "   systematic_error  \n",
       "0          0.000519  \n",
       "1          0.001381  \n",
       "2          0.000000  \n",
       "3          0.000000  \n",
       "4          0.000000  \n",
       "5          0.000000  \n",
       "6          0.000000  \n",
       "7          0.000000  "
      ]
     },
     "execution_count": 10,
     "metadata": {},
     "output_type": "execute_result"
    }
   ],
   "source": [
    "import matplotlib \n",
    "import matplotlib.pyplot as plt\n",
    "import numpy as np\n",
    "import seaborn as sns\n",
    "sns.set(style=\"ticks\")\n",
    "import pandas as pd\n",
    "%matplotlib inline\n",
    "plt.rc('text',usetex=True)\n",
    "plt.rc('lines',linewidth=1)\n",
    "plt.rc('legend',fontsize=10)\n",
    "plt.rc('mathtext',fontset='cm')\n",
    "plt.rc('font',**{'family':'serif','serif':['Helvetica'],'size':10})\n",
    "\n",
    "df=pd.read_csv(\"best.csv\")\n",
    "df"
   ]
  },
  {
   "cell_type": "code",
   "execution_count": 14,
   "metadata": {
    "collapsed": false
   },
   "outputs": [
    {
     "data": {
      "text/plain": [
       "<matplotlib.legend.Legend at 0x113222b38>"
      ]
     },
     "execution_count": 14,
     "metadata": {},
     "output_type": "execute_result"
    },
    {
     "data": {
      "image/png": "[encoded data removed]",
      "text/plain": [
       "<matplotlib.figure.Figure at 0x11322bb38>"
      ]
     },
     "metadata": {},
     "output_type": "display_data"
    }
   ],
   "source": [
    "groups=df.groupby('multiplicity')\n",
    "for nm, group in groups:\n",
    "  nms=list(group['method'])\n",
    "  x=range(len(nms))\n",
    "  plt.errorbar(x,np.array(group['energy']),np.array(group['error']),\n",
    "              marker='o',mew=1,label='mult='+str(nm))\n",
    "  plt.xticks(x,nms,rotation='vertical')\n",
    "plt.xlim(-0.2,3.2)\n",
    "plt.xlabel(\"Method\")\n",
    "plt.ylabel(\"Energy (Hartree)\")\n",
    "plt.legend(loc='best')"
   ]
  },
  {
   "cell_type": "code",
   "execution_count": 19,
   "metadata": {
    "collapsed": false
   },
   "outputs": [
    {
     "data": {
      "text/plain": [
       "<matplotlib.text.Text at 0x113afb080>"
      ]
     },
     "execution_count": 19,
     "metadata": {},
     "output_type": "execute_result"
    },
    {
     "data": {
      "image/png": "[encoded data removed]",
      "text/plain": [
       "<matplotlib.figure.Figure at 0x112f5aeb8>"
      ]
     },
     "metadata": {},
     "output_type": "display_data"
    }
   ],
   "source": [
    "#Make columns for mult3 and mult1 so we can subtract them easily.\n",
    "mult3=df[df['multiplicity']==3]\n",
    "mult1=df[df['multiplicity']==1]\n",
    "#This matches the rows with the same basis and method\n",
    "combined=mult1.merge(mult3,on=['basis','method'],suffixes=['m1','m3'])\n",
    "combined['diff']=combined['energym1']-combined['energym3']\n",
    "combined['differr']=np.sqrt(combined['errorm1']**2+combined['errorm3']**2)\n",
    "\n",
    "#Now plot the singlet-triplet energy differences\n",
    "nms=list(combined['method'])\n",
    "x=range(len(nms))\n",
    "plt.errorbar(x,combined['diff'],combined['differr'],marker='o',mew=1)\n",
    "plt.xticks(x,nms,rotation='vertical')\n",
    "plt.xlabel(\"Method\")\n",
    "plt.xlim(-0.2,len(nms)-0.8)\n",
    "plt.ylabel(\"$\\Delta E$ (Hartree)\")\n"
   ]
  },
  {
   "cell_type": "code",
   "execution_count": null,
   "metadata": {
    "collapsed": true
   },
   "outputs": [],
   "source": []
  }
 ],
 "metadata": {
  "kernelspec": {
   "display_name": "Python 3",
   "language": "python",
   "name": "python3"
  },
  "language_info": {
   "codemirror_mode": {
    "name": "ipython",
    "version": 3
   },
   "file_extension": ".py",
   "mimetype": "text/x-python",
   "name": "python",
   "nbconvert_exporter": "python",
   "pygments_lexer": "ipython3",
   "version": "3.4.4"
  }
 },
 "nbformat": 4,
 "nbformat_minor": 0
}
