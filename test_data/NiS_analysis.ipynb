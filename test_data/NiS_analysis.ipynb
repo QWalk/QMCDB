{
 "cells": [
  {
   "cell_type": "code",
   "execution_count": 56,
   "metadata": {
    "collapsed": false
   },
   "outputs": [],
   "source": [
    "import json\n",
    "import numpy as np\n",
    "import pandas as pd\n",
    "from math import sqrt\n",
    "import matplotlib.pyplot as plt\n",
    "%matplotlib inline\n",
    "nis_unfiltered=json.load(open(\"nis_results.json\"))\n",
    "nis=[]\n",
    "\n",
    "#remove any runs that aren't finished\n",
    "for d in nis_unfiltered:\n",
    "  if 'results' in d['qmc']['dmc'].keys():\n",
    "    nis.append(d)"
   ]
  },
  {
   "cell_type": "code",
   "execution_count": 57,
   "metadata": {
    "collapsed": false
   },
   "outputs": [
    {
     "name": "stdout",
     "output_type": "stream",
     "text": [
      "1_Ni -170.501505225 0.0010724824656064898\n",
      "3_Ni -170.550927825 0.001147563384393595\n",
      "6_Ni3S2 -531.4915587625001 0.001887454267782487\n",
      "12_Ni3S2 -531.4902262125 0.0023354017105196205\n",
      "13_Ni3S2 -531.4975062374999 0.0023716400411248266\n",
      "16_Ni3S4 -1103.5725629999997 0.0026676401617178555\n",
      "17_Ni3S4 -1103.2081045000002 0.002948002739617797\n",
      "27_Ni3S4 -1103.606204125 0.0029999683345369875\n",
      "30_Ni3S4 -1103.610705625 0.005465006721740524\n",
      "44_NiS -541.6966116125 0.0022266615298708278\n",
      "45_NiS -541.70685635 0.0020449381856337085\n",
      "46_NiS -541.7052364 0.0021911792265290257\n",
      "48_NiS2 -763.1446919624999 0.002418221378257987\n",
      "49_NiS2 -763.20960145 0.0026247850054639315\n",
      "51_NiS2 -762.5978082375 0.0025763058175801677\n",
      "52_NiS2 -763.1993721875 0.002834077577734398\n",
      "53_NiS2 -763.2194378375 0.0027808211110948032\n",
      "54_NiS2 -763.211997725 0.0023013418997916858\n",
      "55_NiS2 -763.2106622375 0.0022886172753883677\n",
      "56_NiS2 -763.1976572250001 0.002764687840418893\n",
      "57_NiS2 -763.211661825 0.0025405660755706957\n",
      "58_S -326.9702109125 0.005098636426055277\n",
      "59_S -326.95718545 0.00512502609474272\n",
      "60_S -326.9748161 0.004445428698521288\n",
      "61_S -326.9845137125 0.005203302374770859\n",
      "62_S -326.9680333125 0.004057852948075767\n",
      "63_Ni -1362.191394125 0.002532834930705211\n"
     ]
    }
   ],
   "source": [
    "#K-point averaging. Since we always ran without symmetry, these should all be equal weight.\n",
    "for d in nis:\n",
    "  #print(d['qmc']['dmc'])\n",
    "  res=d['qmc']['dmc']['results']\n",
    "  nkpts=len(res)\n",
    "  avg_en=0\n",
    "  err=0\n",
    "  for i in res:\n",
    "    avg_en+=i['energy'][0]\n",
    "    err+=i['energy'][1]**2\n",
    "  d['qmc']['dmc']['total_energy']=avg_en/nkpts\n",
    "  d['qmc']['dmc']['total_energy_err']=sqrt(err)/nkpts\n",
    "  print(d['control']['id'],d['qmc']['dmc']['total_energy'],d['qmc']['dmc']['total_energy_err'])"
   ]
  },
  {
   "cell_type": "code",
   "execution_count": 59,
   "metadata": {
    "collapsed": false
   },
   "outputs": [],
   "source": [
    "#extract elements from the CIFs\n",
    "from pymatgen.io.cifio import CifParser\n",
    "from pymatgen.entries.computed_entries import ComputedStructureEntry\n",
    "from io import StringIO\n",
    "computed_structures=[]\n",
    "for d in nis:\n",
    "  parser=CifParser(StringIO(d['cif']))\n",
    "  struct=parser.get_structures()[0]\n",
    "  sites=struct.as_dict()['sites']\n",
    "  elements=[]\n",
    "  for s in sites:\n",
    "    elements.append(s['species'][0]['element'])\n",
    "  #print(elements)\n",
    "  nsupercell=int(np.linalg.det(d['supercell'])+0.5) #round..\n",
    "  #print(\"supercell\",nsupercell)\n",
    "  super_elements=[]\n",
    "  for i in range(0,nsupercell):\n",
    "    super_elements.extend(elements)\n",
    "  #print(\"elements\",super_elements)\n",
    "  d['elements']=super_elements\n",
    "  \n"
   ]
  },
  {
   "cell_type": "code",
   "execution_count": 65,
   "metadata": {
    "collapsed": false
   },
   "outputs": [
    {
     "name": "stdout",
     "output_type": "stream",
     "text": [
      "{'S': -10.217751041015624, 'Ni': -170.273924265625}\n"
     ]
    }
   ],
   "source": [
    "#find the reference energy for each atom. For now, we'll just \n",
    "#set the energy to the first instance of the pure material\n",
    "references={}\n",
    "for d in nis:\n",
    "  if len(set(d['elements']))==1:# and not d['elements'][0] in references.keys():\n",
    "    natoms=len(d['elements'])\n",
    "    references[d['elements'][0]]=d['qmc']['dmc']['total_energy']/natoms\n",
    "print(references)\n",
    "    "
   ]
  },
  {
   "cell_type": "code",
   "execution_count": 72,
   "metadata": {
    "collapsed": false
   },
   "outputs": [
    {
     "name": "stdout",
     "output_type": "stream",
     "text": [
      "1_Ni 1 0\n",
      "3_Ni 1 0\n",
      "6_Ni3S2 3 2\n",
      "12_Ni3S2 3 2\n",
      "13_Ni3S2 3 2\n",
      "16_Ni3S4 6 8\n",
      "17_Ni3S4 6 8\n",
      "27_Ni3S4 6 8\n",
      "30_Ni3S4 6 8\n",
      "44_NiS 3 3\n",
      "45_NiS 3 3\n",
      "46_NiS 3 3\n",
      "48_NiS2 4 8\n",
      "49_NiS2 4 8\n",
      "51_NiS2 4 8\n",
      "52_NiS2 4 8\n",
      "53_NiS2 4 8\n",
      "54_NiS2 4 8\n",
      "55_NiS2 4 8\n",
      "56_NiS2 4 8\n",
      "57_NiS2 4 8\n",
      "58_S 0 32\n",
      "59_S 0 32\n",
      "60_S 0 32\n",
      "61_S 0 32\n",
      "62_S 0 32\n",
      "63_Ni 8 0\n"
     ]
    },
    {
     "data": {
      "text/plain": [
       "<matplotlib.text.Text at 0x10e52ce10>"
      ]
     },
     "execution_count": 72,
     "metadata": {},
     "output_type": "execute_result"
    },
    {
     "data": {
      "image/png": "[encoded data removed]",
      "text/plain": [
       "<matplotlib.figure.Figure at 0x10e53c240>"
      ]
     },
     "metadata": {},
     "output_type": "display_data"
    }
   ],
   "source": [
    "#Make the plot of energy, referenced to the \n",
    "x=[]\n",
    "y=[]\n",
    "yerr=[]\n",
    "H2eV=27.2114\n",
    "for d in nis:\n",
    "  natoms=len(d['elements'])\n",
    "  shift=0\n",
    "  for e in d['elements']:\n",
    "    shift+=references[e]\n",
    "  shifted_en=d['qmc']['dmc']['total_energy']-shift\n",
    "  shifted_err=d['qmc']['dmc']['total_energy_err'] #should probably adjust this\n",
    "  shifted_en=shifted_en/natoms\n",
    "  shifted_err=shifted_err/natoms\n",
    "  n_ni=d['elements'].count(\"Ni\")\n",
    "  n_s=d['elements'].count(\"S\")\n",
    "  print(d['control']['id'],n_ni,n_s)\n",
    "  x.append(float(n_s)/float(n_ni+n_s))\n",
    "  y.append(H2eV*shifted_en)\n",
    "  yerr.append(H2eV*shifted_err)\n",
    "    \n",
    "plt.errorbar(x,y,yerr,marker=\"o\",lw=0)\n",
    "plt.xlim(-.1,1.1)\n",
    "plt.ylim(-2,1)\n",
    "plt.xlabel(\"$Ni_{1-x}S_x$\")\n",
    "plt.ylabel(\"eV/atom\")"
   ]
  },
  {
   "cell_type": "code",
   "execution_count": null,
   "metadata": {
    "collapsed": true
   },
   "outputs": [],
   "source": []
  }
 ],
 "metadata": {
  "kernelspec": {
   "display_name": "Python 3",
   "language": "python",
   "name": "python3"
  },
  "language_info": {
   "codemirror_mode": {
    "name": "ipython",
    "version": 3
   },
   "file_extension": ".py",
   "mimetype": "text/x-python",
   "name": "python",
   "nbconvert_exporter": "python",
   "pygments_lexer": "ipython3",
   "version": "3.4.3"
  }
 },
 "nbformat": 4,
 "nbformat_minor": 0
}
